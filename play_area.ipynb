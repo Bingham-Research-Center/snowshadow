{
 "cells": [
  {
   "cell_type": "markdown",
   "source": [
    "## Testbed for classes, functions, etc for `snowshadow` "
   ],
   "metadata": {
    "collapsed": false
   },
   "id": "7575d63093dd8c17"
  },
  {
   "cell_type": "code",
   "outputs": [],
   "source": [
    "# Imports"
   ],
   "metadata": {
    "collapsed": false
   },
   "id": "5b044c6204eedb84"
  },
  {
   "cell_type": "code",
   "outputs": [],
   "source": [
    "# Get data"
   ],
   "metadata": {
    "collapsed": false
   },
   "id": "b14193ae326168c0"
  },
  {
   "cell_type": "code",
   "outputs": [],
   "source": [
    "# Start playing with the data\n",
    "# Meteorological charts, data mining, graphs"
   ],
   "metadata": {
    "collapsed": false
   },
   "id": "23e2c8d56eb48804"
  }
 ],
 "metadata": {
  "kernelspec": {
   "display_name": "Python 3",
   "language": "python",
   "name": "python3"
  },
  "language_info": {
   "codemirror_mode": {
    "name": "ipython",
    "version": 2
   },
   "file_extension": ".py",
   "mimetype": "text/x-python",
   "name": "python",
   "nbconvert_exporter": "python",
   "pygments_lexer": "ipython2",
   "version": "2.7.6"
  }
 },
 "nbformat": 4,
 "nbformat_minor": 5
}
